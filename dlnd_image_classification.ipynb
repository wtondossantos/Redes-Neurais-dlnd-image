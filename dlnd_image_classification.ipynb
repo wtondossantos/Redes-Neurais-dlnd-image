{
 "cells": [
  {
   "cell_type": "markdown",
   "metadata": {
    "collapsed": true
   },
   "source": [
    "# Image Classification\n",
    "In this project, you'll classify images from the [CIFAR-10 dataset](https://www.cs.toronto.edu/~kriz/cifar.html).  The dataset consists of airplanes, dogs, cats, and other objects. You'll preprocess the images, then train a convolutional neural network on all the samples. The images need to be normalized and the labels need to be one-hot encoded.  You'll get to apply what you learned and build a convolutional, max pooling, dropout, and fully connected layers.  At the end, you'll get to see your neural network's predictions on the sample images.\n",
    "## Get the Data\n",
    "Run the following cell to download the [CIFAR-10 dataset for python](https://www.cs.toronto.edu/~kriz/cifar-10-python.tar.gz)."
   ]
  },
  {
   "cell_type": "code",
   "execution_count": 1,
   "metadata": {},
   "outputs": [
    {
     "name": "stdout",
     "output_type": "stream",
     "text": [
      "All files found!\n"
     ]
    }
   ],
   "source": [
    "\"\"\"\n",
    "DON'T MODIFY ANYTHING IN THIS CELL THAT IS BELOW THIS LINE\n",
    "\"\"\"\n",
    "from urllib.request import urlretrieve\n",
    "from os.path import isfile, isdir\n",
    "from tqdm import tqdm\n",
    "import problem_unittests as tests\n",
    "import tarfile\n",
    "\n",
    "cifar10_dataset_folder_path = 'cifar-10-batches-py'\n",
    "\n",
    "# Use Floyd's cifar-10 dataset if present\n",
    "floyd_cifar10_location = '/cifar/cifar-10-python.tar.gz'\n",
    "if isfile(floyd_cifar10_location):\n",
    "    tar_gz_path = floyd_cifar10_location\n",
    "else:\n",
    "    tar_gz_path = 'cifar-10-python.tar.gz'\n",
    "\n",
    "class DLProgress(tqdm):\n",
    "    last_block = 0\n",
    "\n",
    "    def hook(self, block_num=1, block_size=1, total_size=None):\n",
    "        self.total = total_size\n",
    "        self.update((block_num - self.last_block) * block_size)\n",
    "        self.last_block = block_num\n",
    "\n",
    "if not isfile(tar_gz_path):\n",
    "    with DLProgress(unit='B', unit_scale=True, miniters=1, desc='CIFAR-10 Dataset') as pbar:\n",
    "        urlretrieve(\n",
    "            'https://www.cs.toronto.edu/~kriz/cifar-10-python.tar.gz',\n",
    "            tar_gz_path,\n",
    "            pbar.hook)\n",
    "\n",
    "if not isdir(cifar10_dataset_folder_path):\n",
    "    with tarfile.open(tar_gz_path) as tar:\n",
    "        tar.extractall()\n",
    "        tar.close()\n",
    "\n",
    "\n",
    "tests.test_folder_path(cifar10_dataset_folder_path)"
   ]
  },
  {
   "cell_type": "markdown",
   "metadata": {},
   "source": [
    "## Explore the Data\n",
    "The dataset is broken into batches to prevent your machine from running out of memory.  The CIFAR-10 dataset consists of 5 batches, named `data_batch_1`, `data_batch_2`, etc.. Each batch contains the labels and images that are one of the following:\n",
    "* airplane\n",
    "* automobile\n",
    "* bird\n",
    "* cat\n",
    "* deer\n",
    "* dog\n",
    "* frog\n",
    "* horse\n",
    "* ship\n",
    "* truck\n",
    "\n",
    "Understanding a dataset is part of making predictions on the data.  Play around with the code cell below by changing the `batch_id` and `sample_id`. The `batch_id` is the id for a batch (1-5). The `sample_id` is the id for a image and label pair in the batch.\n",
    "\n",
    "Ask yourself \"What are all possible labels?\", \"What is the range of values for the image data?\", \"Are the labels in order or random?\".  Answers to questions like these will help you preprocess the data and end up with better predictions."
   ]
  },
  {
   "cell_type": "code",
   "execution_count": 2,
   "metadata": {},
   "outputs": [
    {
     "name": "stdout",
     "output_type": "stream",
     "text": [
      "\n",
      "Stats of batch 1:\n",
      "Samples: 10000\n",
      "Label Counts: {0: 1005, 1: 974, 2: 1032, 3: 1016, 4: 999, 5: 937, 6: 1030, 7: 1001, 8: 1025, 9: 981}\n",
      "First 20 Labels: [6, 9, 9, 4, 1, 1, 2, 7, 8, 3, 4, 7, 7, 2, 9, 9, 9, 3, 2, 6]\n",
      "\n",
      "Example of Image 5:\n",
      "Image - Min Value: 0 Max Value: 252\n",
      "Image - Shape: (32, 32, 3)\n",
      "Label - Label Id: 1 Name: automobile\n"
     ]
    },
    {
     "data": {
      "image/png": "[encoded data removed]",
      "text/plain": [
       "<matplotlib.figure.Figure at 0x18884f90a58>"
      ]
     },
     "metadata": {
      "image/png": {
       "height": 250,
       "width": 253
      }
     },
     "output_type": "display_data"
    }
   ],
   "source": [
    "%matplotlib inline\n",
    "%config InlineBackend.figure_format = 'retina'\n",
    "\n",
    "import helper\n",
    "import numpy as np\n",
    "\n",
    "# Explore the dataset\n",
    "batch_id = 1\n",
    "sample_id = 5\n",
    "helper.display_stats(cifar10_dataset_folder_path, batch_id, sample_id)"
   ]
  },
  {
   "cell_type": "markdown",
   "metadata": {},
   "source": [
    "## Implement Preprocess Functions\n",
    "### Normalize\n",
    "In the cell below, implement the `normalize` function to take in image data, `x`, and return it as a normalized Numpy array. The values should be in the range of 0 to 1, inclusive.  The return object should be the same shape as `x`."
   ]
  },
  {
   "cell_type": "code",
   "execution_count": 3,
   "metadata": {},
   "outputs": [
    {
     "name": "stdout",
     "output_type": "stream",
     "text": [
      "Tests Passed\n"
     ]
    }
   ],
   "source": [
    "import tensorflow as tf\n",
    "def normalize(x):\n",
    "    \"\"\"\n",
    "    Normalize a list of sample image data in the range of 0 to 1\n",
    "    : x: List of image data.  The image shape is (32, 32, 3)\n",
    "    : return: Numpy array of normalize data\n",
    "    \"\"\"    \n",
    "    var = tf.Variable(tf.random_uniform(x.shape, 0, 1))\n",
    "    with tf.Session() as sess:\n",
    "        # Initializing the variables\n",
    "        sess.run(tf.global_variables_initializer())\n",
    "        var = sess.run(var)\n",
    "    return var\n",
    "\n",
    "\"\"\"\n",
    "DON'T MODIFY ANYTHING IN THIS CELL THAT IS BELOW THIS LINE\n",
    "\"\"\"\n",
    "tests.test_normalize(normalize)"
   ]
  },
  {
   "cell_type": "markdown",
   "metadata": {},
   "source": [
    "### One-hot encode\n",
    "Just like the previous code cell, you'll be implementing a function for preprocessing.  This time, you'll implement the `one_hot_encode` function. The input, `x`, are a list of labels.  Implement the function to return the list of labels as One-Hot encoded Numpy array.  The possible values for labels are 0 to 9. The one-hot encoding function should return the same encoding for each value between each call to `one_hot_encode`.  Make sure to save the map of encodings outside the function.\n",
    "\n",
    "Hint: Don't reinvent the wheel."
   ]
  },
  {
   "cell_type": "code",
   "execution_count": 4,
   "metadata": {},
   "outputs": [
    {
     "name": "stdout",
     "output_type": "stream",
     "text": [
      "Tests Passed\n"
     ]
    }
   ],
   "source": [
    "def one_hot_encode(x):\n",
    "    \"\"\"\n",
    "    One hot encode a list of sample labels. Return a one-hot encoded vector for each label.\n",
    "    : x: List of sample Labels\n",
    "    : return: Numpy array of one-hot encoded labels\n",
    "    \"\"\"\n",
    "    # TODO: Implement Function\n",
    "    depth = 10 #There are 10 labels\n",
    "    var = tf.Variable(tf.one_hot(x, depth))\n",
    "    with tf.Session() as sess:\n",
    "        # Initializing the variables\n",
    "        sess.run(tf.global_variables_initializer())\n",
    "        var = sess.run(var)\n",
    "    return var\n",
    "\n",
    "\n",
    "\"\"\"\n",
    "DON'T MODIFY ANYTHING IN THIS CELL THAT IS BELOW THIS LINE\n",
    "\"\"\"\n",
    "tests.test_one_hot_encode(one_hot_encode)\n"
   ]
  },
  {
   "cell_type": "markdown",
   "metadata": {},
   "source": [
    "### Randomize Data\n",
    "As you saw from exploring the data above, the order of the samples are randomized.  It doesn't hurt to randomize it again, but you don't need to for this dataset."
   ]
  },
  {
   "cell_type": "markdown",
   "metadata": {},
   "source": [
    "## Preprocess all the data and save it\n",
    "Running the code cell below will preprocess all the CIFAR-10 data and save it to file. The code below also uses 10% of the training data for validation."
   ]
  },
  {
   "cell_type": "code",
   "execution_count": 5,
   "metadata": {},
   "outputs": [],
   "source": [
    "\"\"\"\n",
    "DON'T MODIFY ANYTHING IN THIS CELL\n",
    "\"\"\"\n",
    "# Preprocess Training, Validation, and Testing Data\n",
    "helper.preprocess_and_save_data(cifar10_dataset_folder_path, normalize, one_hot_encode)"
   ]
  },
  {
   "cell_type": "markdown",
   "metadata": {},
   "source": [
    "# Check Point\n",
    "This is your first checkpoint.  If you ever decide to come back to this notebook or have to restart the notebook, you can start from here.  The preprocessed data has been saved to disk."
   ]
  },
  {
   "cell_type": "code",
   "execution_count": 5,
   "metadata": {},
   "outputs": [],
   "source": [
    "\"\"\"\n",
    "DON'T MODIFY ANYTHING IN THIS CELL\n",
    "\"\"\"\n",
    "import pickle\n",
    "import problem_unittests as tests\n",
    "import helper\n",
    "\n",
    "# Load the Preprocessed Validation data\n",
    "valid_features, valid_labels = pickle.load(open('preprocess_validation.p', mode='rb'))"
   ]
  },
  {
   "cell_type": "markdown",
   "metadata": {},
   "source": [
    "## Build the network\n",
    "For the neural network, you'll build each layer into a function.  Most of the code you've seen has been outside of functions. To test your code more thoroughly, we require that you put each layer in a function.  This allows us to give you better feedback and test for simple mistakes using our unittests before you submit your project.\n",
    "\n",
    ">**Note:** If you're finding it hard to dedicate enough time for this course each week, we've provided a small shortcut to this part of the project. In the next couple of problems, you'll have the option to use classes from the [TensorFlow Layers](https://www.tensorflow.org/api_docs/python/tf/layers) or [TensorFlow Layers (contrib)](https://www.tensorflow.org/api_guides/python/contrib.layers) packages to build each layer, except the layers you build in the \"Convolutional and Max Pooling Layer\" section.  TF Layers is similar to Keras's and TFLearn's abstraction to layers, so it's easy to pickup.\n",
    "\n",
    ">However, if you would like to get the most out of this course, try to solve all the problems _without_ using anything from the TF Layers packages. You **can** still use classes from other packages that happen to have the same name as ones you find in TF Layers! For example, instead of using the TF Layers version of the `conv2d` class, [tf.layers.conv2d](https://www.tensorflow.org/api_docs/python/tf/layers/conv2d), you would want to use the TF Neural Network version of `conv2d`, [tf.nn.conv2d](https://www.tensorflow.org/api_docs/python/tf/nn/conv2d). \n",
    "\n",
    "Let's begin!\n",
    "\n",
    "### Input\n",
    "The neural network needs to read the image data, one-hot encoded labels, and dropout keep probability. Implement the following functions\n",
    "* Implement `neural_net_image_input`\n",
    " * Return a [TF Placeholder](https://www.tensorflow.org/api_docs/python/tf/placeholder)\n",
    " * Set the shape using `image_shape` with batch size set to `None`.\n",
    " * Name the TensorFlow placeholder \"x\" using the TensorFlow `name` parameter in the [TF Placeholder](https://www.tensorflow.org/api_docs/python/tf/placeholder).\n",
    "* Implement `neural_net_label_input`\n",
    " * Return a [TF Placeholder](https://www.tensorflow.org/api_docs/python/tf/placeholder)\n",
    " * Set the shape using `n_classes` with batch size set to `None`.\n",
    " * Name the TensorFlow placeholder \"y\" using the TensorFlow `name` parameter in the [TF Placeholder](https://www.tensorflow.org/api_docs/python/tf/placeholder).\n",
    "* Implement `neural_net_keep_prob_input`\n",
    " * Return a [TF Placeholder](https://www.tensorflow.org/api_docs/python/tf/placeholder) for dropout keep probability.\n",
    " * Name the TensorFlow placeholder \"keep_prob\" using the TensorFlow `name` parameter in the [TF Placeholder](https://www.tensorflow.org/api_docs/python/tf/placeholder).\n",
    "\n",
    "These names will be used at the end of the project to load your saved model.\n",
    "\n",
    "Note: `None` for shapes in TensorFlow allow for a dynamic size."
   ]
  },
  {
   "cell_type": "code",
   "execution_count": 6,
   "metadata": {},
   "outputs": [
    {
     "name": "stdout",
     "output_type": "stream",
     "text": [
      "Image Input Tests Passed.\n",
      "Label Input Tests Passed.\n",
      "Keep Prob Tests Passed.\n"
     ]
    }
   ],
   "source": [
    "import tensorflow as tf\n",
    "\n",
    "def neural_net_image_input(image_shape):\n",
    "    \"\"\"\n",
    "    Return a Tensor for a batch of image input\n",
    "    : image_shape: Shape of the images\n",
    "    : return: Tensor for image input.\n",
    "    \"\"\"\n",
    "    # TODO: Implement Function\n",
    "    shape = np.append(None, np.array(image_shape))\n",
    "    return tf.placeholder(tf.float32, shape=shape, name='x')\n",
    "\n",
    "\n",
    "def neural_net_label_input(n_classes):\n",
    "    \"\"\"\n",
    "    Return a Tensor for a batch of label input\n",
    "    : n_classes: Number of classes\n",
    "    : return: Tensor for label input.\n",
    "    \"\"\"\n",
    "    # TODO: Implement Function\n",
    "    return tf.placeholder(tf.float32, shape=[None, n_classes], name='y')\n",
    "\n",
    "\n",
    "def neural_net_keep_prob_input():\n",
    "    \"\"\"\n",
    "    Return a Tensor for keep probability\n",
    "    : return: Tensor for keep probability.\n",
    "    \"\"\"\n",
    "    # TODO: Implement Function\n",
    "    return tf.placeholder(tf.float32, name='keep_prob')\n",
    "\n",
    "\n",
    "\"\"\"\n",
    "DON'T MODIFY ANYTHING IN THIS CELL THAT IS BELOW THIS LINE\n",
    "\"\"\"\n",
    "tf.reset_default_graph()\n",
    "tests.test_nn_image_inputs(neural_net_image_input)\n",
    "tests.test_nn_label_inputs(neural_net_label_input)\n",
    "tests.test_nn_keep_prob_inputs(neural_net_keep_prob_input)"
   ]
  },
  {
   "cell_type": "markdown",
   "metadata": {},
   "source": [
    "### Convolution and Max Pooling Layer\n",
    "Convolution layers have a lot of success with images. For this code cell, you should implement the function `conv2d_maxpool` to apply convolution then max pooling:\n",
    "* Create the weight and bias using `conv_ksize`, `conv_num_outputs` and the shape of `x_tensor`.\n",
    "* Apply a convolution to `x_tensor` using weight and `conv_strides`.\n",
    " * We recommend you use same padding, but you're welcome to use any padding.\n",
    "* Add bias\n",
    "* Add a nonlinear activation to the convolution.\n",
    "* Apply Max Pooling using `pool_ksize` and `pool_strides`.\n",
    " * We recommend you use same padding, but you're welcome to use any padding.\n",
    "\n",
    "**Note:** You **can't** use [TensorFlow Layers](https://www.tensorflow.org/api_docs/python/tf/layers) or [TensorFlow Layers (contrib)](https://www.tensorflow.org/api_guides/python/contrib.layers) for **this** layer, but you can still use TensorFlow's [Neural Network](https://www.tensorflow.org/api_docs/python/tf/nn) package. You may still use the shortcut option for all the **other** layers."
   ]
  },
  {
   "cell_type": "code",
   "execution_count": 24,
   "metadata": {},
   "outputs": [
    {
     "name": "stdout",
     "output_type": "stream",
     "text": [
      "Tests Passed\n"
     ]
    }
   ],
   "source": [
    "def conv2d_maxpool(x_tensor, conv_num_outputs, conv_ksize, conv_strides, pool_ksize, pool_strides):\n",
    "    \"\"\"\n",
    "    Apply convolution then max pooling to x_tensor\n",
    "    :param x_tensor: TensorFlow Tensor\n",
    "    :param conv_num_outputs: Number of outputs for the convolutional layer\n",
    "    :param conv_ksize: kernal size 2-D Tuple for the convolutional layer\n",
    "    :param conv_strides: Stride 2-D Tuple for convolution\n",
    "    :param pool_ksize: kernal size 2-D Tuple for pool\n",
    "    :param pool_strides: Stride 2-D Tuple for pool\n",
    "    : return: A tensor that represents convolution and max pooling of x_tensor\n",
    "    \"\"\"\n",
    "    # TODO: Implement Function\n",
    "    \n",
    "    # Image Properties\n",
    "    img_channels = int(x_tensor.shape[3])\n",
    "    weight = tf.Variable(tf.truncated_normal([conv_ksize[0], conv_ksize[1], img_channels, conv_num_outputs]))\n",
    "    bias = tf.Variable(tf.zeros(conv_num_outputs))\n",
    "    \n",
    "    # Convolutional function\n",
    "    conv_max_pool_layer = tf.nn.conv2d(\n",
    "        x_tensor, weight,\n",
    "        strides=[1, conv_strides[0], conv_strides[1], 1],\n",
    "        padding=\"SAME\")\n",
    "    conv_max_pool_layer = tf.nn.bias_add(conv_max_pool_layer, bias)\n",
    "    conv_max_pool_layer = tf.nn.relu(conv_max_pool_layer)\n",
    "    \n",
    "    # Max Pooling Function\n",
    "    conv_max_pool_layer = tf.nn.max_pool(\n",
    "        conv_max_pool_layer,\n",
    "        ksize=[1, pool_ksize[0], pool_ksize[1], 1],\n",
    "        strides=[1, pool_strides[0], pool_strides[1], 1],\n",
    "        padding='SAME',\n",
    "        name=\"conv_max_pool\")\n",
    "    #conv_max_pool_layer = tf.nn.relu(conv_max_pool_layer)\n",
    "    return conv_max_pool_layer \n",
    "\n",
    "\n",
    "\"\"\"\n",
    "DON'T MODIFY ANYTHING IN THIS CELL THAT IS BELOW THIS LINE\n",
    "\"\"\"\n",
    "tests.test_con_pool(conv2d_maxpool)"
   ]
  },
  {
   "cell_type": "markdown",
   "metadata": {},
   "source": [
    "### Flatten Layer\n",
    "Implement the `flatten` function to change the dimension of `x_tensor` from a 4-D tensor to a 2-D tensor.  The output should be the shape (*Batch Size*, *Flattened Image Size*). Shortcut option: you can use classes from the [TensorFlow Layers](https://www.tensorflow.org/api_docs/python/tf/layers) or [TensorFlow Layers (contrib)](https://www.tensorflow.org/api_guides/python/contrib.layers) packages for this layer. For more of a challenge, only use other TensorFlow packages."
   ]
  },
  {
   "cell_type": "code",
   "execution_count": 25,
   "metadata": {},
   "outputs": [
    {
     "name": "stdout",
     "output_type": "stream",
     "text": [
      "Tests Passed\n"
     ]
    }
   ],
   "source": [
    "def flatten(x_tensor):\n",
    "    \"\"\"\n",
    "    Flatten x_tensor to (Batch Size, Flattened Image Size)\n",
    "    : x_tensor: A tensor of size (Batch Size, ...), where ... are the image dimensions.\n",
    "    : return: A tensor of size (Batch Size, Flattened Image Size).\n",
    "    \"\"\"\n",
    "    # TODO: Implement Function\n",
    "    \n",
    "    shape = x_tensor.get_shape().as_list()\n",
    "    dim = np.prod(shape[1:])\n",
    "    #print(dim)\n",
    "    x_tensor = tf.reshape(x_tensor,[-1,dim])\n",
    "    #print(x_tensor)\n",
    "    #arr = np.array([batch_size, height * width * depth])\n",
    "        \n",
    "    return tf.contrib.layers.flatten(x_tensor) #tf.placeholder(tf.float32, arr, name=\"Flatten\")\n",
    "\n",
    "\n",
    "\"\"\"\n",
    "DON'T MODIFY ANYTHING IN THIS CELL THAT IS BELOW THIS LINE\n",
    "\"\"\"\n",
    "tests.test_flatten(flatten)"
   ]
  },
  {
   "cell_type": "markdown",
   "metadata": {},
   "source": [
    "### Fully-Connected Layer\n",
    "Implement the `fully_conn` function to apply a fully connected layer to `x_tensor` with the shape (*Batch Size*, *num_outputs*). Shortcut option: you can use classes from the [TensorFlow Layers](https://www.tensorflow.org/api_docs/python/tf/layers) or [TensorFlow Layers (contrib)](https://www.tensorflow.org/api_guides/python/contrib.layers) packages for this layer. For more of a challenge, only use other TensorFlow packages."
   ]
  },
  {
   "cell_type": "code",
   "execution_count": 26,
   "metadata": {},
   "outputs": [
    {
     "name": "stdout",
     "output_type": "stream",
     "text": [
      "Tests Passed\n"
     ]
    }
   ],
   "source": [
    "def fully_conn(x_tensor, num_outputs):\n",
    "    \"\"\"\n",
    "    Apply a fully connected layer to x_tensor using weight and bias\n",
    "    : x_tensor: A 2-D tensor where the first dimension is batch size.\n",
    "    : num_outputs: The number of output that the new tensor should be.\n",
    "    : return: A 2-D tensor where the second dimension is num_outputs.\n",
    "    \"\"\"\n",
    "    # TODO: Implement Function    \n",
    "    weight = tf.Variable(tf.random_normal([x_tensor.shape[1].value, num_outputs]))\n",
    "    bias = tf.Variable(tf.random_normal([num_outputs]))\n",
    "    #print(\"fully_conn\")\n",
    "    #print(\"weight\")\n",
    "    fc1 = tf.add(tf.matmul(x_tensor, weight), bias)\n",
    "    #fc1 = tf.nn.relu(fc1)    \n",
    "    #print(fc1)\n",
    "    #print(bias)\n",
    "    #batch_size = x_tensor.shape[0].value\n",
    "    #arr = np.array([batch_size, num_outputs])\n",
    "    return tf.layers.dense(x_tensor, num_outputs) #fc1 #tf.placeholder(tf.float32, arr, name=\"fully_Conn\")\n",
    "\n",
    "\n",
    "\"\"\"\n",
    "DON'T MODIFY ANYTHING IN THIS CELL THAT IS BELOW THIS LINE\n",
    "\"\"\"\n",
    "tests.test_fully_conn(fully_conn)"
   ]
  },
  {
   "cell_type": "markdown",
   "metadata": {},
   "source": [
    "### Output Layer\n",
    "Implement the `output` function to apply a fully connected layer to `x_tensor` with the shape (*Batch Size*, *num_outputs*). Shortcut option: you can use classes from the [TensorFlow Layers](https://www.tensorflow.org/api_docs/python/tf/layers) or [TensorFlow Layers (contrib)](https://www.tensorflow.org/api_guides/python/contrib.layers) packages for this layer. For more of a challenge, only use other TensorFlow packages.\n",
    "\n",
    "**Note:** Activation, softmax, or cross entropy should **not** be applied to this."
   ]
  },
  {
   "cell_type": "code",
   "execution_count": 27,
   "metadata": {},
   "outputs": [
    {
     "name": "stdout",
     "output_type": "stream",
     "text": [
      "Tests Passed\n"
     ]
    }
   ],
   "source": [
    "def output(x_tensor, num_outputs):\n",
    "    \"\"\"\n",
    "    Apply a output layer to x_tensor using weight and bias\n",
    "    : x_tensor: A 2-D tensor where the first dimension is batch size.\n",
    "    : num_outputs: The number of output that the new tensor should be.\n",
    "    : return: A 2-D tensor where the second dimension is num_outputs.\n",
    "    \"\"\"\n",
    "    # TODO: Implement Function   \n",
    "    weight = tf.Variable(tf.random_normal([x_tensor.shape[1].value, num_outputs]))\n",
    "    bias = tf.Variable(tf.random_normal([num_outputs]))\n",
    "    \n",
    "    output = tf.add(tf.matmul(x_tensor, weight), bias)\n",
    "    #output = tf.nn.relu(output)  \n",
    "\n",
    "    return tf.layers.dense(x_tensor, num_outputs) #output\n",
    "\n",
    "\n",
    "\"\"\"\n",
    "DON'T MODIFY ANYTHING IN THIS CELL THAT IS BELOW THIS LINE\n",
    "\"\"\"\n",
    "tests.test_output(output)"
   ]
  },
  {
   "cell_type": "markdown",
   "metadata": {},
   "source": [
    "### Create Convolutional Model\n",
    "Implement the function `conv_net` to create a convolutional neural network model. The function takes in a batch of images, `x`, and outputs logits.  Use the layers you created above to create this model:\n",
    "\n",
    "* Apply 1, 2, or 3 Convolution and Max Pool layers\n",
    "* Apply a Flatten Layer\n",
    "* Apply 1, 2, or 3 Fully Connected Layers\n",
    "* Apply an Output Layer\n",
    "* Return the output\n",
    "* Apply [TensorFlow's Dropout](https://www.tensorflow.org/api_docs/python/tf/nn/dropout) to one or more layers in the model using `keep_prob`. "
   ]
  },
  {
   "cell_type": "code",
   "execution_count": 40,
   "metadata": {},
   "outputs": [
    {
     "name": "stdout",
     "output_type": "stream",
     "text": [
      "Neural Network Built!\n"
     ]
    }
   ],
   "source": [
    "def conv_net(x, keep_prob):\n",
    "    \"\"\"\n",
    "    Create a convolutional neural network model\n",
    "    : x: Placeholder tensor that holds image data.\n",
    "    : keep_prob: Placeholder tensor that hold dropout keep probability.\n",
    "    : return: Tensor that represents logits\n",
    "    \"\"\"\n",
    "    # TODO: Apply 1, 2, or 3 Convolution and Max Pool layers\n",
    "    #    Play around with different number of outputs, kernel size and stride\n",
    "    # Function Definition from Above:\n",
    "    #    conv2d_maxpool(x_tensor, conv_num_outputs, conv_ksize, conv_strides, pool_ksize, pool_strides)\n",
    "      \n",
    "    \n",
    "    conv_strides = 3\n",
    "    conv_ksize = 8\n",
    "    pool_strides = 3\n",
    "    pool_ksize = 8\n",
    "    \n",
    "    layer1 = conv2d_maxpool(\n",
    "        x,\n",
    "        32,\n",
    "        [conv_ksize, conv_ksize],\n",
    "        [conv_strides, conv_strides],\n",
    "        [pool_ksize, pool_ksize],\n",
    "        [pool_strides, pool_strides])\n",
    "    \n",
    "    layer1 = tf.nn.dropout(layer1, keep_prob)    \n",
    "    \n",
    "    layer2 = conv2d_maxpool(\n",
    "        layer1,\n",
    "        64, #layer_length * mul,\n",
    "        [conv_ksize, conv_ksize],\n",
    "        [conv_strides, conv_strides],\n",
    "        [pool_ksize, pool_ksize],\n",
    "        [pool_strides, pool_strides])\n",
    "    \n",
    "\n",
    "    # TODO: Apply a Flatten Layer\n",
    "    # Function Definition from Above:\n",
    "    #   flatten(x_tensor)\n",
    "    \n",
    "    layer3 = flatten(layer2)\n",
    "    # TODO: Apply 1, 2, or 3 Fully Connected Layers\n",
    "    #    Play around with different number of outputs\n",
    "    # Function Definition from Above:\n",
    "    #   fully_conn(x_tensor, num_outputs)\n",
    "    layer4 = fully_conn(layer3, 512) \n",
    "    layer4 = tf.nn.relu(layer4)\n",
    "        \n",
    "    dropout = tf.nn.dropout(layer4, keep_prob)\n",
    "    # TODO: Apply an Output Layer\n",
    "    #    Set this to the number of classes\n",
    "    # Function Definition from Above:\n",
    "    \n",
    "    num_classes = 10\n",
    "    output_layer = output(dropout, num_classes)\n",
    "    \n",
    "    # TODO: return output\n",
    "    return output_layer\n",
    "\n",
    "\n",
    "\"\"\"\n",
    "DON'T MODIFY ANYTHING IN THIS CELL THAT IS BELOW THIS LINE\n",
    "\"\"\"\n",
    "\n",
    "##############################\n",
    "## Build the Neural Network ##\n",
    "##############################\n",
    "\n",
    "# Remove previous weights, bias, inputs, etc..\n",
    "tf.reset_default_graph()\n",
    "\n",
    "# Inputs\n",
    "x = neural_net_image_input((32, 32, 3))\n",
    "y = neural_net_label_input(10)\n",
    "keep_prob = neural_net_keep_prob_input()\n",
    "\n",
    "# Model\n",
    "logits = conv_net(x, keep_prob)\n",
    "\n",
    "# Name logits Tensor, so that is can be loaded from disk after training\n",
    "logits = tf.identity(logits, name='logits')\n",
    "\n",
    "# Loss and Optimizer\n",
    "cost = tf.reduce_mean(tf.nn.softmax_cross_entropy_with_logits(logits=logits, labels=y))\n",
    "optimizer = tf.train.AdamOptimizer().minimize(cost)\n",
    "\n",
    "# Accuracy\n",
    "correct_pred = tf.equal(tf.argmax(logits, 1), tf.argmax(y, 1))\n",
    "accuracy = tf.reduce_mean(tf.cast(correct_pred, tf.float32), name='accuracy')\n",
    "\n",
    "tests.test_conv_net(conv_net)\n"
   ]
  },
  {
   "cell_type": "markdown",
   "metadata": {},
   "source": [
    "## Train the Neural Network\n",
    "### Single Optimization\n",
    "Implement the function `train_neural_network` to do a single optimization.  The optimization should use `optimizer` to optimize in `session` with a `feed_dict` of the following:\n",
    "* `x` for image input\n",
    "* `y` for labels\n",
    "* `keep_prob` for keep probability for dropout\n",
    "\n",
    "This function will be called for each batch, so `tf.global_variables_initializer()` has already been called.\n",
    "\n",
    "Note: Nothing needs to be returned. This function is only optimizing the neural network."
   ]
  },
  {
   "cell_type": "code",
   "execution_count": 29,
   "metadata": {},
   "outputs": [
    {
     "name": "stdout",
     "output_type": "stream",
     "text": [
      "Tests Passed\n"
     ]
    }
   ],
   "source": [
    "def train_neural_network(session, optimizer, keep_probability, feature_batch, label_batch):\n",
    "    \"\"\"\n",
    "    Optimize the session on a batch of images and labels\n",
    "    : session: Current TensorFlow session\n",
    "    : optimizer: TensorFlow optimizer function\n",
    "    : keep_probability: keep probability\n",
    "    : feature_batch: Batch of Numpy image data\n",
    "    : label_batch: Batch of Numpy label data\n",
    "    \"\"\"\n",
    "    \n",
    "    # TODO: Implement Function\n",
    "    session.run(optimizer, feed_dict={x: feature_batch, y: label_batch, keep_prob: keep_probability})\n",
    "    \n",
    "\n",
    "\n",
    "\"\"\"\n",
    "DON'T MODIFY ANYTHING IN THIS CELL THAT IS BELOW THIS LINE\n",
    "\"\"\"\n",
    "tests.test_train_nn(train_neural_network)"
   ]
  },
  {
   "cell_type": "markdown",
   "metadata": {},
   "source": [
    "### Show Stats\n",
    "Implement the function `print_stats` to print loss and validation accuracy.  Use the global variables `valid_features` and `valid_labels` to calculate validation accuracy.  Use a keep probability of `1.0` to calculate the loss and validation accuracy."
   ]
  },
  {
   "cell_type": "code",
   "execution_count": 13,
   "metadata": {},
   "outputs": [],
   "source": [
    "def print_stats(session, feature_batch, label_batch, cost, accuracy):\n",
    "    \"\"\"\n",
    "    Print information about loss and validation accuracy\n",
    "    : session: Current TensorFlow session\n",
    "    : feature_batch: Batch of Numpy image data\n",
    "    : label_batch: Batch of Numpy label data\n",
    "    : cost: TensorFlow cost function\n",
    "    : accuracy: TensorFlow accuracy function\n",
    "    \"\"\"\n",
    "    # TODO: Implement Function\n",
    "    keepProb = 1\n",
    "    loss = session.run(cost, feed_dict={x: feature_batch, y: label_batch, keep_prob: keepProb})\n",
    "    \n",
    "    valid_acc = session.run(accuracy, feed_dict={x: valid_features, y: valid_labels, keep_prob: keepProb})\n",
    "    \n",
    "    print('Loss: {:>10.4f} Validation Accuracy: {:.6f}'.format(\n",
    "                loss,\n",
    "                valid_acc))"
   ]
  },
  {
   "cell_type": "markdown",
   "metadata": {},
   "source": [
    "### Hyperparameters\n",
    "Tune the following parameters:\n",
    "* Set `epochs` to the number of iterations until the network stops learning or start overfitting\n",
    "* Set `batch_size` to the highest number that your machine has memory for.  Most people set them to common sizes of memory:\n",
    " * 64\n",
    " * 128\n",
    " * 256\n",
    " * ...\n",
    "* Set `keep_probability` to the probability of keeping a node using dropout"
   ]
  },
  {
   "cell_type": "code",
   "execution_count": 43,
   "metadata": {},
   "outputs": [],
   "source": [
    "# TODO: Tune Parameters\n",
    "epochs = 300\n",
    "batch_size = 128\n",
    "keep_probability = 0.7"
   ]
  },
  {
   "cell_type": "markdown",
   "metadata": {},
   "source": [
    "### Train on a Single CIFAR-10 Batch\n",
    "Instead of training the neural network on all the CIFAR-10 batches of data, let's use a single batch. This should save time while you iterate on the model to get a better accuracy.  Once the final validation accuracy is 50% or greater, run the model on all the data in the next section."
   ]
  },
  {
   "cell_type": "code",
   "execution_count": 44,
   "metadata": {},
   "outputs": [
    {
     "name": "stdout",
     "output_type": "stream",
     "text": [
      "Checking the Training on a Single Batch...\n",
      "Epoch  1, CIFAR-10 Batch 1:  Loss:    14.3622 Validation Accuracy: 0.106800\n",
      "Epoch  2, CIFAR-10 Batch 1:  Loss:     8.7857 Validation Accuracy: 0.105200\n",
      "Epoch  3, CIFAR-10 Batch 1:  Loss:    12.4467 Validation Accuracy: 0.104400\n",
      "Epoch  4, CIFAR-10 Batch 1:  Loss:     5.4727 Validation Accuracy: 0.101200\n",
      "Epoch  5, CIFAR-10 Batch 1:  Loss:     4.0501 Validation Accuracy: 0.101200\n",
      "Epoch  6, CIFAR-10 Batch 1:  Loss:     3.7504 Validation Accuracy: 0.102600\n",
      "Epoch  7, CIFAR-10 Batch 1:  Loss:     3.8512 Validation Accuracy: 0.103600\n",
      "Epoch  8, CIFAR-10 Batch 1:  Loss:     3.6726 Validation Accuracy: 0.109000\n",
      "Epoch  9, CIFAR-10 Batch 1:  Loss:     2.4826 Validation Accuracy: 0.097600\n",
      "Epoch 10, CIFAR-10 Batch 1:  Loss:     2.7648 Validation Accuracy: 0.095200\n",
      "Epoch 11, CIFAR-10 Batch 1:  Loss:     2.5445 Validation Accuracy: 0.096200\n",
      "Epoch 12, CIFAR-10 Batch 1:  Loss:     2.3300 Validation Accuracy: 0.098800\n",
      "Epoch 13, CIFAR-10 Batch 1:  Loss:     2.2829 Validation Accuracy: 0.096400\n",
      "Epoch 14, CIFAR-10 Batch 1:  Loss:     2.2361 Validation Accuracy: 0.098200\n",
      "Epoch 15, CIFAR-10 Batch 1:  Loss:     2.2746 Validation Accuracy: 0.092800\n",
      "Epoch 16, CIFAR-10 Batch 1:  Loss:     2.2916 Validation Accuracy: 0.094000\n",
      "Epoch 17, CIFAR-10 Batch 1:  Loss:     2.2278 Validation Accuracy: 0.094200\n",
      "Epoch 18, CIFAR-10 Batch 1:  Loss:     2.1249 Validation Accuracy: 0.097000\n",
      "Epoch 19, CIFAR-10 Batch 1:  Loss:     2.2018 Validation Accuracy: 0.093400\n",
      "Epoch 20, CIFAR-10 Batch 1:  Loss:     2.1520 Validation Accuracy: 0.097000\n",
      "Epoch 21, CIFAR-10 Batch 1:  Loss:     2.1296 Validation Accuracy: 0.096600\n",
      "Epoch 22, CIFAR-10 Batch 1:  Loss:     2.0754 Validation Accuracy: 0.097600\n",
      "Epoch 23, CIFAR-10 Batch 1:  Loss:     2.0539 Validation Accuracy: 0.101600\n",
      "Epoch 24, CIFAR-10 Batch 1:  Loss:     2.0111 Validation Accuracy: 0.101200\n",
      "Epoch 25, CIFAR-10 Batch 1:  Loss:     2.0071 Validation Accuracy: 0.102000\n",
      "Epoch 26, CIFAR-10 Batch 1:  Loss:     1.9746 Validation Accuracy: 0.102000\n",
      "Epoch 27, CIFAR-10 Batch 1:  Loss:     1.9539 Validation Accuracy: 0.102200\n",
      "Epoch 28, CIFAR-10 Batch 1:  Loss:     1.9179 Validation Accuracy: 0.106000\n",
      "Epoch 29, CIFAR-10 Batch 1:  Loss:     1.8863 Validation Accuracy: 0.105600\n",
      "Epoch 30, CIFAR-10 Batch 1:  Loss:     1.8474 Validation Accuracy: 0.104800\n",
      "Epoch 31, CIFAR-10 Batch 1:  Loss:     1.8403 Validation Accuracy: 0.102200\n",
      "Epoch 32, CIFAR-10 Batch 1:  Loss:     1.7770 Validation Accuracy: 0.100400\n",
      "Epoch 33, CIFAR-10 Batch 1:  Loss:     1.7783 Validation Accuracy: 0.103200\n",
      "Epoch 34, CIFAR-10 Batch 1:  Loss:     1.7263 Validation Accuracy: 0.103400\n",
      "Epoch 35, CIFAR-10 Batch 1:  Loss:     1.6834 Validation Accuracy: 0.103200\n",
      "Epoch 36, CIFAR-10 Batch 1:  Loss:     1.6719 Validation Accuracy: 0.102000\n",
      "Epoch 37, CIFAR-10 Batch 1:  Loss:     1.6271 Validation Accuracy: 0.102600\n",
      "Epoch 38, CIFAR-10 Batch 1:  Loss:     1.5928 Validation Accuracy: 0.101400\n",
      "Epoch 39, CIFAR-10 Batch 1:  Loss:     1.5528 Validation Accuracy: 0.102800\n",
      "Epoch 40, CIFAR-10 Batch 1:  Loss:     1.5059 Validation Accuracy: 0.101400\n",
      "Epoch 41, CIFAR-10 Batch 1:  Loss:     1.4920 Validation Accuracy: 0.100800\n",
      "Epoch 42, CIFAR-10 Batch 1:  Loss:     1.4382 Validation Accuracy: 0.101800\n",
      "Epoch 43, CIFAR-10 Batch 1:  Loss:     1.4011 Validation Accuracy: 0.103200\n",
      "Epoch 44, CIFAR-10 Batch 1:  Loss:     1.3661 Validation Accuracy: 0.101600\n",
      "Epoch 45, CIFAR-10 Batch 1:  Loss:     1.3620 Validation Accuracy: 0.102200\n",
      "Epoch 46, CIFAR-10 Batch 1:  Loss:     1.3301 Validation Accuracy: 0.101400\n",
      "Epoch 47, CIFAR-10 Batch 1:  Loss:     1.2801 Validation Accuracy: 0.102800\n",
      "Epoch 48, CIFAR-10 Batch 1:  Loss:     1.2817 Validation Accuracy: 0.104600\n",
      "Epoch 49, CIFAR-10 Batch 1:  Loss:     1.2000 Validation Accuracy: 0.105200\n",
      "Epoch 50, CIFAR-10 Batch 1:  Loss:     1.0928 Validation Accuracy: 0.106200\n",
      "Epoch 51, CIFAR-10 Batch 1:  Loss:     1.0947 Validation Accuracy: 0.108400\n",
      "Epoch 52, CIFAR-10 Batch 1:  Loss:     1.0849 Validation Accuracy: 0.106800\n",
      "Epoch 53, CIFAR-10 Batch 1:  Loss:     1.0642 Validation Accuracy: 0.107600\n",
      "Epoch 54, CIFAR-10 Batch 1:  Loss:     1.0786 Validation Accuracy: 0.111800\n",
      "Epoch 55, CIFAR-10 Batch 1:  Loss:     1.0755 Validation Accuracy: 0.108000\n",
      "Epoch 56, CIFAR-10 Batch 1:  Loss:     1.0388 Validation Accuracy: 0.112400\n",
      "Epoch 57, CIFAR-10 Batch 1:  Loss:     1.0542 Validation Accuracy: 0.106400\n",
      "Epoch 58, CIFAR-10 Batch 1:  Loss:     1.0758 Validation Accuracy: 0.108000\n",
      "Epoch 59, CIFAR-10 Batch 1:  Loss:     1.0598 Validation Accuracy: 0.109400\n",
      "Epoch 60, CIFAR-10 Batch 1:  Loss:     1.0876 Validation Accuracy: 0.112200\n",
      "Epoch 61, CIFAR-10 Batch 1:  Loss:     1.0682 Validation Accuracy: 0.111200\n",
      "Epoch 62, CIFAR-10 Batch 1:  Loss:     1.0504 Validation Accuracy: 0.104200\n",
      "Epoch 63, CIFAR-10 Batch 1:  Loss:     1.0649 Validation Accuracy: 0.103400\n",
      "Epoch 64, CIFAR-10 Batch 1:  Loss:     1.0609 Validation Accuracy: 0.106600\n",
      "Epoch 65, CIFAR-10 Batch 1:  Loss:     1.0136 Validation Accuracy: 0.107200\n",
      "Epoch 66, CIFAR-10 Batch 1:  Loss:     0.8919 Validation Accuracy: 0.103800\n",
      "Epoch 67, CIFAR-10 Batch 1:  Loss:     0.9055 Validation Accuracy: 0.107800\n",
      "Epoch 68, CIFAR-10 Batch 1:  Loss:     0.8356 Validation Accuracy: 0.106200\n",
      "Epoch 69, CIFAR-10 Batch 1:  Loss:     0.7800 Validation Accuracy: 0.102600\n",
      "Epoch 70, CIFAR-10 Batch 1:  Loss:     0.7744 Validation Accuracy: 0.104800\n",
      "Epoch 71, CIFAR-10 Batch 1:  Loss:     0.7558 Validation Accuracy: 0.102000\n",
      "Epoch 72, CIFAR-10 Batch 1:  Loss:     0.7285 Validation Accuracy: 0.096000\n",
      "Epoch 73, CIFAR-10 Batch 1:  Loss:     0.7292 Validation Accuracy: 0.093600\n",
      "Epoch 74, CIFAR-10 Batch 1:  Loss:     0.6626 Validation Accuracy: 0.101200\n",
      "Epoch 75, CIFAR-10 Batch 1:  Loss:     0.5976 Validation Accuracy: 0.096400\n",
      "Epoch 76, CIFAR-10 Batch 1:  Loss:     0.6402 Validation Accuracy: 0.099600\n",
      "Epoch 77, CIFAR-10 Batch 1:  Loss:     0.6449 Validation Accuracy: 0.101400\n",
      "Epoch 78, CIFAR-10 Batch 1:  Loss:     0.5418 Validation Accuracy: 0.104200\n",
      "Epoch 79, CIFAR-10 Batch 1:  Loss:     0.4888 Validation Accuracy: 0.105600\n",
      "Epoch 80, CIFAR-10 Batch 1:  Loss:     0.4928 Validation Accuracy: 0.098000\n",
      "Epoch 81, CIFAR-10 Batch 1:  Loss:     0.5062 Validation Accuracy: 0.100400\n",
      "Epoch 82, CIFAR-10 Batch 1:  Loss:     0.4482 Validation Accuracy: 0.101600\n",
      "Epoch 83, CIFAR-10 Batch 1:  Loss:     0.3826 Validation Accuracy: 0.103600\n",
      "Epoch 84, CIFAR-10 Batch 1:  Loss:     0.3246 Validation Accuracy: 0.105600\n",
      "Epoch 85, CIFAR-10 Batch 1:  Loss:     0.2786 Validation Accuracy: 0.104600\n",
      "Epoch 86, CIFAR-10 Batch 1:  Loss:     0.2600 Validation Accuracy: 0.106200\n",
      "Epoch 87, CIFAR-10 Batch 1:  Loss:     0.2864 Validation Accuracy: 0.104600\n",
      "Epoch 88, CIFAR-10 Batch 1:  Loss:     0.3540 Validation Accuracy: 0.107000\n",
      "Epoch 89, CIFAR-10 Batch 1:  Loss:     0.4121 Validation Accuracy: 0.109800\n",
      "Epoch 90, CIFAR-10 Batch 1:  Loss:     0.3677 Validation Accuracy: 0.107000\n",
      "Epoch 91, CIFAR-10 Batch 1:  Loss:     0.3873 Validation Accuracy: 0.106000\n",
      "Epoch 92, CIFAR-10 Batch 1:  Loss:     0.3701 Validation Accuracy: 0.105800\n",
      "Epoch 93, CIFAR-10 Batch 1:  Loss:     0.4177 Validation Accuracy: 0.107400\n",
      "Epoch 94, CIFAR-10 Batch 1:  Loss:     0.3950 Validation Accuracy: 0.104800\n",
      "Epoch 95, CIFAR-10 Batch 1:  Loss:     0.3821 Validation Accuracy: 0.106000\n",
      "Epoch 96, CIFAR-10 Batch 1:  Loss:     0.3670 Validation Accuracy: 0.101800\n",
      "Epoch 97, CIFAR-10 Batch 1:  Loss:     0.3640 Validation Accuracy: 0.102800\n",
      "Epoch 98, CIFAR-10 Batch 1:  Loss:     0.3600 Validation Accuracy: 0.107600\n",
      "Epoch 99, CIFAR-10 Batch 1:  Loss:     0.3096 Validation Accuracy: 0.103400\n",
      "Epoch 100, CIFAR-10 Batch 1:  Loss:     0.2973 Validation Accuracy: 0.105000\n",
      "Epoch 101, CIFAR-10 Batch 1:  Loss:     0.2394 Validation Accuracy: 0.104400\n",
      "Epoch 102, CIFAR-10 Batch 1:  Loss:     0.1828 Validation Accuracy: 0.110200\n",
      "Epoch 103, CIFAR-10 Batch 1:  Loss:     0.1771 Validation Accuracy: 0.108600\n",
      "Epoch 104, CIFAR-10 Batch 1:  Loss:     0.1890 Validation Accuracy: 0.106200\n",
      "Epoch 105, CIFAR-10 Batch 1:  Loss:     0.1400 Validation Accuracy: 0.103800\n",
      "Epoch 106, CIFAR-10 Batch 1:  Loss:     0.0955 Validation Accuracy: 0.106200\n",
      "Epoch 107, CIFAR-10 Batch 1:  Loss:     0.1063 Validation Accuracy: 0.103400\n"
     ]
    },
    {
     "name": "stdout",
     "output_type": "stream",
     "text": [
      "Epoch 108, CIFAR-10 Batch 1:  Loss:     0.1166 Validation Accuracy: 0.103200\n",
      "Epoch 109, CIFAR-10 Batch 1:  Loss:     0.1278 Validation Accuracy: 0.100000\n",
      "Epoch 110, CIFAR-10 Batch 1:  Loss:     0.1291 Validation Accuracy: 0.098800\n",
      "Epoch 111, CIFAR-10 Batch 1:  Loss:     0.1056 Validation Accuracy: 0.100000\n",
      "Epoch 112, CIFAR-10 Batch 1:  Loss:     0.1191 Validation Accuracy: 0.100200\n",
      "Epoch 113, CIFAR-10 Batch 1:  Loss:     0.1004 Validation Accuracy: 0.101200\n",
      "Epoch 114, CIFAR-10 Batch 1:  Loss:     0.0728 Validation Accuracy: 0.104200\n",
      "Epoch 115, CIFAR-10 Batch 1:  Loss:     0.0882 Validation Accuracy: 0.108200\n",
      "Epoch 116, CIFAR-10 Batch 1:  Loss:     0.0843 Validation Accuracy: 0.104200\n",
      "Epoch 117, CIFAR-10 Batch 1:  Loss:     0.1135 Validation Accuracy: 0.102400\n",
      "Epoch 118, CIFAR-10 Batch 1:  Loss:     0.1007 Validation Accuracy: 0.105600\n",
      "Epoch 119, CIFAR-10 Batch 1:  Loss:     0.1030 Validation Accuracy: 0.105600\n",
      "Epoch 120, CIFAR-10 Batch 1:  Loss:     0.0834 Validation Accuracy: 0.107400\n",
      "Epoch 121, CIFAR-10 Batch 1:  Loss:     0.0978 Validation Accuracy: 0.099800\n",
      "Epoch 122, CIFAR-10 Batch 1:  Loss:     0.0606 Validation Accuracy: 0.099000\n",
      "Epoch 123, CIFAR-10 Batch 1:  Loss:     0.0602 Validation Accuracy: 0.098000\n",
      "Epoch 124, CIFAR-10 Batch 1:  Loss:     0.0564 Validation Accuracy: 0.094800\n",
      "Epoch 125, CIFAR-10 Batch 1:  Loss:     0.1145 Validation Accuracy: 0.099800\n",
      "Epoch 126, CIFAR-10 Batch 1:  Loss:     0.1049 Validation Accuracy: 0.101200\n",
      "Epoch 127, CIFAR-10 Batch 1:  Loss:     0.1026 Validation Accuracy: 0.100400\n",
      "Epoch 128, CIFAR-10 Batch 1:  Loss:     0.0954 Validation Accuracy: 0.099000\n",
      "Epoch 129, CIFAR-10 Batch 1:  Loss:     0.0845 Validation Accuracy: 0.097000\n",
      "Epoch 130, CIFAR-10 Batch 1:  Loss:     0.0918 Validation Accuracy: 0.101200\n",
      "Epoch 131, CIFAR-10 Batch 1:  Loss:     0.1095 Validation Accuracy: 0.103400\n",
      "Epoch 132, CIFAR-10 Batch 1:  Loss:     0.0454 Validation Accuracy: 0.103400\n",
      "Epoch 133, CIFAR-10 Batch 1:  Loss:     0.0444 Validation Accuracy: 0.098000\n",
      "Epoch 134, CIFAR-10 Batch 1:  Loss:     0.0404 Validation Accuracy: 0.097200\n",
      "Epoch 135, CIFAR-10 Batch 1:  Loss:     0.0476 Validation Accuracy: 0.096200\n",
      "Epoch 136, CIFAR-10 Batch 1:  Loss:     0.0419 Validation Accuracy: 0.099600\n",
      "Epoch 137, CIFAR-10 Batch 1:  Loss:     0.0542 Validation Accuracy: 0.098000\n",
      "Epoch 138, CIFAR-10 Batch 1:  Loss:     0.0444 Validation Accuracy: 0.099400\n",
      "Epoch 139, CIFAR-10 Batch 1:  Loss:     0.0450 Validation Accuracy: 0.095000\n",
      "Epoch 140, CIFAR-10 Batch 1:  Loss:     0.0587 Validation Accuracy: 0.097600\n",
      "Epoch 141, CIFAR-10 Batch 1:  Loss:     0.0405 Validation Accuracy: 0.103600\n",
      "Epoch 142, CIFAR-10 Batch 1:  Loss:     0.0472 Validation Accuracy: 0.093600\n",
      "Epoch 143, CIFAR-10 Batch 1:  Loss:     0.0517 Validation Accuracy: 0.097400\n",
      "Epoch 144, CIFAR-10 Batch 1:  Loss:     0.0426 Validation Accuracy: 0.103600\n",
      "Epoch 145, CIFAR-10 Batch 1:  Loss:     0.0361 Validation Accuracy: 0.104600\n",
      "Epoch 146, CIFAR-10 Batch 1:  Loss:     0.0466 Validation Accuracy: 0.098800\n",
      "Epoch 147, CIFAR-10 Batch 1:  Loss:     0.0476 Validation Accuracy: 0.100600\n",
      "Epoch 148, CIFAR-10 Batch 1:  Loss:     0.0410 Validation Accuracy: 0.099200\n",
      "Epoch 149, CIFAR-10 Batch 1:  Loss:     0.0463 Validation Accuracy: 0.101800\n",
      "Epoch 150, CIFAR-10 Batch 1:  Loss:     0.0619 Validation Accuracy: 0.107000\n",
      "Epoch 151, CIFAR-10 Batch 1:  Loss:     0.0481 Validation Accuracy: 0.106000\n",
      "Epoch 152, CIFAR-10 Batch 1:  Loss:     0.0502 Validation Accuracy: 0.103400\n",
      "Epoch 153, CIFAR-10 Batch 1:  Loss:     0.0394 Validation Accuracy: 0.107400\n",
      "Epoch 154, CIFAR-10 Batch 1:  Loss:     0.0410 Validation Accuracy: 0.098400\n",
      "Epoch 155, CIFAR-10 Batch 1:  Loss:     0.0317 Validation Accuracy: 0.098600\n",
      "Epoch 156, CIFAR-10 Batch 1:  Loss:     0.0256 Validation Accuracy: 0.104200\n",
      "Epoch 157, CIFAR-10 Batch 1:  Loss:     0.0206 Validation Accuracy: 0.101800\n",
      "Epoch 158, CIFAR-10 Batch 1:  Loss:     0.0301 Validation Accuracy: 0.095800\n",
      "Epoch 159, CIFAR-10 Batch 1:  Loss:     0.0275 Validation Accuracy: 0.098200\n",
      "Epoch 160, CIFAR-10 Batch 1:  Loss:     0.0198 Validation Accuracy: 0.094200\n",
      "Epoch 161, CIFAR-10 Batch 1:  Loss:     0.0179 Validation Accuracy: 0.098000\n",
      "Epoch 162, CIFAR-10 Batch 1:  Loss:     0.0165 Validation Accuracy: 0.092800\n",
      "Epoch 163, CIFAR-10 Batch 1:  Loss:     0.0151 Validation Accuracy: 0.095400\n",
      "Epoch 164, CIFAR-10 Batch 1:  Loss:     0.0095 Validation Accuracy: 0.097200\n",
      "Epoch 165, CIFAR-10 Batch 1:  Loss:     0.0118 Validation Accuracy: 0.095600\n",
      "Epoch 166, CIFAR-10 Batch 1:  Loss:     0.0167 Validation Accuracy: 0.094000\n",
      "Epoch 167, CIFAR-10 Batch 1:  Loss:     0.0172 Validation Accuracy: 0.094800\n",
      "Epoch 168, CIFAR-10 Batch 1:  Loss:     0.0164 Validation Accuracy: 0.100600\n",
      "Epoch 169, CIFAR-10 Batch 1:  Loss:     0.0104 Validation Accuracy: 0.099400\n",
      "Epoch 170, CIFAR-10 Batch 1:  Loss:     0.0147 Validation Accuracy: 0.099800\n",
      "Epoch 171, CIFAR-10 Batch 1:  Loss:     0.0120 Validation Accuracy: 0.100400\n",
      "Epoch 172, CIFAR-10 Batch 1:  Loss:     0.0093 Validation Accuracy: 0.100000\n",
      "Epoch 173, CIFAR-10 Batch 1:  Loss:     0.0064 Validation Accuracy: 0.098400\n",
      "Epoch 174, CIFAR-10 Batch 1:  Loss:     0.0055 Validation Accuracy: 0.104200\n",
      "Epoch 175, CIFAR-10 Batch 1:  Loss:     0.0043 Validation Accuracy: 0.101200\n",
      "Epoch 176, CIFAR-10 Batch 1:  Loss:     0.0053 Validation Accuracy: 0.098800\n",
      "Epoch 177, CIFAR-10 Batch 1:  Loss:     0.0050 Validation Accuracy: 0.098400\n",
      "Epoch 178, CIFAR-10 Batch 1:  Loss:     0.0080 Validation Accuracy: 0.105000\n",
      "Epoch 179, CIFAR-10 Batch 1:  Loss:     0.0075 Validation Accuracy: 0.101400\n",
      "Epoch 180, CIFAR-10 Batch 1:  Loss:     0.0061 Validation Accuracy: 0.101000\n",
      "Epoch 181, CIFAR-10 Batch 1:  Loss:     0.0065 Validation Accuracy: 0.107200\n",
      "Epoch 182, CIFAR-10 Batch 1:  Loss:     0.0073 Validation Accuracy: 0.104200\n",
      "Epoch 183, CIFAR-10 Batch 1:  Loss:     0.0099 Validation Accuracy: 0.104000\n",
      "Epoch 184, CIFAR-10 Batch 1:  Loss:     0.0053 Validation Accuracy: 0.099800\n",
      "Epoch 185, CIFAR-10 Batch 1:  Loss:     0.0042 Validation Accuracy: 0.102400\n",
      "Epoch 186, CIFAR-10 Batch 1:  Loss:     0.0048 Validation Accuracy: 0.101400\n",
      "Epoch 187, CIFAR-10 Batch 1:  Loss:     0.0036 Validation Accuracy: 0.097600\n",
      "Epoch 188, CIFAR-10 Batch 1:  Loss:     0.0058 Validation Accuracy: 0.101800\n",
      "Epoch 189, CIFAR-10 Batch 1:  Loss:     0.0046 Validation Accuracy: 0.102600\n",
      "Epoch 190, CIFAR-10 Batch 1:  Loss:     0.0037 Validation Accuracy: 0.102600\n",
      "Epoch 191, CIFAR-10 Batch 1:  Loss:     0.0065 Validation Accuracy: 0.103800\n",
      "Epoch 192, CIFAR-10 Batch 1:  Loss:     0.0044 Validation Accuracy: 0.097800\n",
      "Epoch 193, CIFAR-10 Batch 1:  Loss:     0.0038 Validation Accuracy: 0.098800\n",
      "Epoch 194, CIFAR-10 Batch 1:  Loss:     0.0031 Validation Accuracy: 0.101200\n",
      "Epoch 195, CIFAR-10 Batch 1:  Loss:     0.0035 Validation Accuracy: 0.101800\n",
      "Epoch 196, CIFAR-10 Batch 1:  Loss:     0.0028 Validation Accuracy: 0.099000\n",
      "Epoch 197, CIFAR-10 Batch 1:  Loss:     0.0044 Validation Accuracy: 0.101600\n",
      "Epoch 198, CIFAR-10 Batch 1:  Loss:     0.0041 Validation Accuracy: 0.102800\n",
      "Epoch 199, CIFAR-10 Batch 1:  Loss:     0.0036 Validation Accuracy: 0.103800\n",
      "Epoch 200, CIFAR-10 Batch 1:  Loss:     0.0051 Validation Accuracy: 0.103200\n",
      "Epoch 201, CIFAR-10 Batch 1:  Loss:     0.0017 Validation Accuracy: 0.099600\n",
      "Epoch 202, CIFAR-10 Batch 1:  Loss:     0.0028 Validation Accuracy: 0.105600\n",
      "Epoch 203, CIFAR-10 Batch 1:  Loss:     0.0032 Validation Accuracy: 0.095200\n",
      "Epoch 204, CIFAR-10 Batch 1:  Loss:     0.0085 Validation Accuracy: 0.103200\n",
      "Epoch 205, CIFAR-10 Batch 1:  Loss:     0.0035 Validation Accuracy: 0.100200\n",
      "Epoch 206, CIFAR-10 Batch 1:  Loss:     0.0019 Validation Accuracy: 0.102200\n",
      "Epoch 207, CIFAR-10 Batch 1:  Loss:     0.0083 Validation Accuracy: 0.107600\n",
      "Epoch 208, CIFAR-10 Batch 1:  Loss:     0.0083 Validation Accuracy: 0.102200\n",
      "Epoch 209, CIFAR-10 Batch 1:  Loss:     0.0037 Validation Accuracy: 0.097800\n",
      "Epoch 210, CIFAR-10 Batch 1:  Loss:     0.0065 Validation Accuracy: 0.101600\n",
      "Epoch 211, CIFAR-10 Batch 1:  Loss:     0.0020 Validation Accuracy: 0.098600\n",
      "Epoch 212, CIFAR-10 Batch 1:  Loss:     0.0021 Validation Accuracy: 0.104200\n",
      "Epoch 213, CIFAR-10 Batch 1:  Loss:     0.0047 Validation Accuracy: 0.101800\n"
     ]
    },
    {
     "name": "stdout",
     "output_type": "stream",
     "text": [
      "Epoch 214, CIFAR-10 Batch 1:  Loss:     0.0016 Validation Accuracy: 0.104800\n",
      "Epoch 215, CIFAR-10 Batch 1:  Loss:     0.0045 Validation Accuracy: 0.103000\n",
      "Epoch 216, CIFAR-10 Batch 1:  Loss:     0.0013 Validation Accuracy: 0.100600\n",
      "Epoch 217, CIFAR-10 Batch 1:  Loss:     0.0006 Validation Accuracy: 0.103400\n",
      "Epoch 218, CIFAR-10 Batch 1:  Loss:     0.0010 Validation Accuracy: 0.104000\n",
      "Epoch 219, CIFAR-10 Batch 1:  Loss:     0.0014 Validation Accuracy: 0.104400\n",
      "Epoch 220, CIFAR-10 Batch 1:  Loss:     0.0003 Validation Accuracy: 0.105000\n",
      "Epoch 221, CIFAR-10 Batch 1:  Loss:     0.0009 Validation Accuracy: 0.103400\n",
      "Epoch 222, CIFAR-10 Batch 1:  Loss:     0.0008 Validation Accuracy: 0.103200\n",
      "Epoch 223, CIFAR-10 Batch 1:  Loss:     0.0012 Validation Accuracy: 0.103600\n"
     ]
    },
    {
     "ename": "KeyboardInterrupt",
     "evalue": "",
     "output_type": "error",
     "traceback": [
      "\u001b[1;31m---------------------------------------------------------------------------\u001b[0m",
      "\u001b[1;31mKeyboardInterrupt\u001b[0m                         Traceback (most recent call last)",
      "\u001b[1;32m<ipython-input-44-6aa082bf118d>\u001b[0m in \u001b[0;36m<module>\u001b[1;34m()\u001b[0m\n\u001b[0;32m     11\u001b[0m         \u001b[0mbatch_i\u001b[0m \u001b[1;33m=\u001b[0m \u001b[1;36m1\u001b[0m\u001b[1;33m\u001b[0m\u001b[0m\n\u001b[0;32m     12\u001b[0m         \u001b[1;32mfor\u001b[0m \u001b[0mbatch_features\u001b[0m\u001b[1;33m,\u001b[0m \u001b[0mbatch_labels\u001b[0m \u001b[1;32min\u001b[0m \u001b[0mhelper\u001b[0m\u001b[1;33m.\u001b[0m\u001b[0mload_preprocess_training_batch\u001b[0m\u001b[1;33m(\u001b[0m\u001b[0mbatch_i\u001b[0m\u001b[1;33m,\u001b[0m \u001b[0mbatch_size\u001b[0m\u001b[1;33m)\u001b[0m\u001b[1;33m:\u001b[0m\u001b[1;33m\u001b[0m\u001b[0m\n\u001b[1;32m---> 13\u001b[1;33m             \u001b[0mtrain_neural_network\u001b[0m\u001b[1;33m(\u001b[0m\u001b[0msess\u001b[0m\u001b[1;33m,\u001b[0m \u001b[0moptimizer\u001b[0m\u001b[1;33m,\u001b[0m \u001b[0mkeep_probability\u001b[0m\u001b[1;33m,\u001b[0m \u001b[0mbatch_features\u001b[0m\u001b[1;33m,\u001b[0m \u001b[0mbatch_labels\u001b[0m\u001b[1;33m)\u001b[0m\u001b[1;33m\u001b[0m\u001b[0m\n\u001b[0m\u001b[0;32m     14\u001b[0m         \u001b[0mprint\u001b[0m\u001b[1;33m(\u001b[0m\u001b[1;34m'Epoch {:>2}, CIFAR-10 Batch {}:  '\u001b[0m\u001b[1;33m.\u001b[0m\u001b[0mformat\u001b[0m\u001b[1;33m(\u001b[0m\u001b[0mepoch\u001b[0m \u001b[1;33m+\u001b[0m \u001b[1;36m1\u001b[0m\u001b[1;33m,\u001b[0m \u001b[0mbatch_i\u001b[0m\u001b[1;33m)\u001b[0m\u001b[1;33m,\u001b[0m \u001b[0mend\u001b[0m\u001b[1;33m=\u001b[0m\u001b[1;34m''\u001b[0m\u001b[1;33m)\u001b[0m\u001b[1;33m\u001b[0m\u001b[0m\n\u001b[0;32m     15\u001b[0m         \u001b[0mprint_stats\u001b[0m\u001b[1;33m(\u001b[0m\u001b[0msess\u001b[0m\u001b[1;33m,\u001b[0m \u001b[0mbatch_features\u001b[0m\u001b[1;33m,\u001b[0m \u001b[0mbatch_labels\u001b[0m\u001b[1;33m,\u001b[0m \u001b[0mcost\u001b[0m\u001b[1;33m,\u001b[0m \u001b[0maccuracy\u001b[0m\u001b[1;33m)\u001b[0m\u001b[1;33m\u001b[0m\u001b[0m\n",
      "\u001b[1;32m<ipython-input-29-310a04cfae5f>\u001b[0m in \u001b[0;36mtrain_neural_network\u001b[1;34m(session, optimizer, keep_probability, feature_batch, label_batch)\u001b[0m\n\u001b[0;32m     10\u001b[0m \u001b[1;33m\u001b[0m\u001b[0m\n\u001b[0;32m     11\u001b[0m     \u001b[1;31m# TODO: Implement Function\u001b[0m\u001b[1;33m\u001b[0m\u001b[1;33m\u001b[0m\u001b[0m\n\u001b[1;32m---> 12\u001b[1;33m     \u001b[0msession\u001b[0m\u001b[1;33m.\u001b[0m\u001b[0mrun\u001b[0m\u001b[1;33m(\u001b[0m\u001b[0moptimizer\u001b[0m\u001b[1;33m,\u001b[0m \u001b[0mfeed_dict\u001b[0m\u001b[1;33m=\u001b[0m\u001b[1;33m{\u001b[0m\u001b[0mx\u001b[0m\u001b[1;33m:\u001b[0m \u001b[0mfeature_batch\u001b[0m\u001b[1;33m,\u001b[0m \u001b[0my\u001b[0m\u001b[1;33m:\u001b[0m \u001b[0mlabel_batch\u001b[0m\u001b[1;33m,\u001b[0m \u001b[0mkeep_prob\u001b[0m\u001b[1;33m:\u001b[0m \u001b[0mkeep_probability\u001b[0m\u001b[1;33m}\u001b[0m\u001b[1;33m)\u001b[0m\u001b[1;33m\u001b[0m\u001b[0m\n\u001b[0m\u001b[0;32m     13\u001b[0m \u001b[1;33m\u001b[0m\u001b[0m\n\u001b[0;32m     14\u001b[0m \u001b[1;33m\u001b[0m\u001b[0m\n",
      "\u001b[1;32m~\\AppData\\Local\\Continuum\\anaconda3\\envs\\tensorflow\\lib\\site-packages\\tensorflow\\python\\client\\session.py\u001b[0m in \u001b[0;36mrun\u001b[1;34m(self, fetches, feed_dict, options, run_metadata)\u001b[0m\n\u001b[0;32m    893\u001b[0m     \u001b[1;32mtry\u001b[0m\u001b[1;33m:\u001b[0m\u001b[1;33m\u001b[0m\u001b[0m\n\u001b[0;32m    894\u001b[0m       result = self._run(None, fetches, feed_dict, options_ptr,\n\u001b[1;32m--> 895\u001b[1;33m                          run_metadata_ptr)\n\u001b[0m\u001b[0;32m    896\u001b[0m       \u001b[1;32mif\u001b[0m \u001b[0mrun_metadata\u001b[0m\u001b[1;33m:\u001b[0m\u001b[1;33m\u001b[0m\u001b[0m\n\u001b[0;32m    897\u001b[0m         \u001b[0mproto_data\u001b[0m \u001b[1;33m=\u001b[0m \u001b[0mtf_session\u001b[0m\u001b[1;33m.\u001b[0m\u001b[0mTF_GetBuffer\u001b[0m\u001b[1;33m(\u001b[0m\u001b[0mrun_metadata_ptr\u001b[0m\u001b[1;33m)\u001b[0m\u001b[1;33m\u001b[0m\u001b[0m\n",
      "\u001b[1;32m~\\AppData\\Local\\Continuum\\anaconda3\\envs\\tensorflow\\lib\\site-packages\\tensorflow\\python\\client\\session.py\u001b[0m in \u001b[0;36m_run\u001b[1;34m(self, handle, fetches, feed_dict, options, run_metadata)\u001b[0m\n\u001b[0;32m   1126\u001b[0m     \u001b[1;32mif\u001b[0m \u001b[0mfinal_fetches\u001b[0m \u001b[1;32mor\u001b[0m \u001b[0mfinal_targets\u001b[0m \u001b[1;32mor\u001b[0m \u001b[1;33m(\u001b[0m\u001b[0mhandle\u001b[0m \u001b[1;32mand\u001b[0m \u001b[0mfeed_dict_tensor\u001b[0m\u001b[1;33m)\u001b[0m\u001b[1;33m:\u001b[0m\u001b[1;33m\u001b[0m\u001b[0m\n\u001b[0;32m   1127\u001b[0m       results = self._do_run(handle, final_targets, final_fetches,\n\u001b[1;32m-> 1128\u001b[1;33m                              feed_dict_tensor, options, run_metadata)\n\u001b[0m\u001b[0;32m   1129\u001b[0m     \u001b[1;32melse\u001b[0m\u001b[1;33m:\u001b[0m\u001b[1;33m\u001b[0m\u001b[0m\n\u001b[0;32m   1130\u001b[0m       \u001b[0mresults\u001b[0m \u001b[1;33m=\u001b[0m \u001b[1;33m[\u001b[0m\u001b[1;33m]\u001b[0m\u001b[1;33m\u001b[0m\u001b[0m\n",
      "\u001b[1;32m~\\AppData\\Local\\Continuum\\anaconda3\\envs\\tensorflow\\lib\\site-packages\\tensorflow\\python\\client\\session.py\u001b[0m in \u001b[0;36m_do_run\u001b[1;34m(self, handle, target_list, fetch_list, feed_dict, options, run_metadata)\u001b[0m\n\u001b[0;32m   1342\u001b[0m     \u001b[1;32mif\u001b[0m \u001b[0mhandle\u001b[0m \u001b[1;32mis\u001b[0m \u001b[1;32mNone\u001b[0m\u001b[1;33m:\u001b[0m\u001b[1;33m\u001b[0m\u001b[0m\n\u001b[0;32m   1343\u001b[0m       return self._do_call(_run_fn, self._session, feeds, fetches, targets,\n\u001b[1;32m-> 1344\u001b[1;33m                            options, run_metadata)\n\u001b[0m\u001b[0;32m   1345\u001b[0m     \u001b[1;32melse\u001b[0m\u001b[1;33m:\u001b[0m\u001b[1;33m\u001b[0m\u001b[0m\n\u001b[0;32m   1346\u001b[0m       \u001b[1;32mreturn\u001b[0m \u001b[0mself\u001b[0m\u001b[1;33m.\u001b[0m\u001b[0m_do_call\u001b[0m\u001b[1;33m(\u001b[0m\u001b[0m_prun_fn\u001b[0m\u001b[1;33m,\u001b[0m \u001b[0mself\u001b[0m\u001b[1;33m.\u001b[0m\u001b[0m_session\u001b[0m\u001b[1;33m,\u001b[0m \u001b[0mhandle\u001b[0m\u001b[1;33m,\u001b[0m \u001b[0mfeeds\u001b[0m\u001b[1;33m,\u001b[0m \u001b[0mfetches\u001b[0m\u001b[1;33m)\u001b[0m\u001b[1;33m\u001b[0m\u001b[0m\n",
      "\u001b[1;32m~\\AppData\\Local\\Continuum\\anaconda3\\envs\\tensorflow\\lib\\site-packages\\tensorflow\\python\\client\\session.py\u001b[0m in \u001b[0;36m_do_call\u001b[1;34m(self, fn, *args)\u001b[0m\n\u001b[0;32m   1348\u001b[0m   \u001b[1;32mdef\u001b[0m \u001b[0m_do_call\u001b[0m\u001b[1;33m(\u001b[0m\u001b[0mself\u001b[0m\u001b[1;33m,\u001b[0m \u001b[0mfn\u001b[0m\u001b[1;33m,\u001b[0m \u001b[1;33m*\u001b[0m\u001b[0margs\u001b[0m\u001b[1;33m)\u001b[0m\u001b[1;33m:\u001b[0m\u001b[1;33m\u001b[0m\u001b[0m\n\u001b[0;32m   1349\u001b[0m     \u001b[1;32mtry\u001b[0m\u001b[1;33m:\u001b[0m\u001b[1;33m\u001b[0m\u001b[0m\n\u001b[1;32m-> 1350\u001b[1;33m       \u001b[1;32mreturn\u001b[0m \u001b[0mfn\u001b[0m\u001b[1;33m(\u001b[0m\u001b[1;33m*\u001b[0m\u001b[0margs\u001b[0m\u001b[1;33m)\u001b[0m\u001b[1;33m\u001b[0m\u001b[0m\n\u001b[0m\u001b[0;32m   1351\u001b[0m     \u001b[1;32mexcept\u001b[0m \u001b[0merrors\u001b[0m\u001b[1;33m.\u001b[0m\u001b[0mOpError\u001b[0m \u001b[1;32mas\u001b[0m \u001b[0me\u001b[0m\u001b[1;33m:\u001b[0m\u001b[1;33m\u001b[0m\u001b[0m\n\u001b[0;32m   1352\u001b[0m       \u001b[0mmessage\u001b[0m \u001b[1;33m=\u001b[0m \u001b[0mcompat\u001b[0m\u001b[1;33m.\u001b[0m\u001b[0mas_text\u001b[0m\u001b[1;33m(\u001b[0m\u001b[0me\u001b[0m\u001b[1;33m.\u001b[0m\u001b[0mmessage\u001b[0m\u001b[1;33m)\u001b[0m\u001b[1;33m\u001b[0m\u001b[0m\n",
      "\u001b[1;32m~\\AppData\\Local\\Continuum\\anaconda3\\envs\\tensorflow\\lib\\site-packages\\tensorflow\\python\\client\\session.py\u001b[0m in \u001b[0;36m_run_fn\u001b[1;34m(session, feed_dict, fetch_list, target_list, options, run_metadata)\u001b[0m\n\u001b[0;32m   1327\u001b[0m           return tf_session.TF_Run(session, options,\n\u001b[0;32m   1328\u001b[0m                                    \u001b[0mfeed_dict\u001b[0m\u001b[1;33m,\u001b[0m \u001b[0mfetch_list\u001b[0m\u001b[1;33m,\u001b[0m \u001b[0mtarget_list\u001b[0m\u001b[1;33m,\u001b[0m\u001b[1;33m\u001b[0m\u001b[0m\n\u001b[1;32m-> 1329\u001b[1;33m                                    status, run_metadata)\n\u001b[0m\u001b[0;32m   1330\u001b[0m \u001b[1;33m\u001b[0m\u001b[0m\n\u001b[0;32m   1331\u001b[0m     \u001b[1;32mdef\u001b[0m \u001b[0m_prun_fn\u001b[0m\u001b[1;33m(\u001b[0m\u001b[0msession\u001b[0m\u001b[1;33m,\u001b[0m \u001b[0mhandle\u001b[0m\u001b[1;33m,\u001b[0m \u001b[0mfeed_dict\u001b[0m\u001b[1;33m,\u001b[0m \u001b[0mfetch_list\u001b[0m\u001b[1;33m)\u001b[0m\u001b[1;33m:\u001b[0m\u001b[1;33m\u001b[0m\u001b[0m\n",
      "\u001b[1;31mKeyboardInterrupt\u001b[0m: "
     ]
    }
   ],
   "source": [
    "\"\"\"\n",
    "DON'T MODIFY ANYTHING IN THIS CELL\n",
    "\"\"\"\n",
    "print('Checking the Training on a Single Batch...')\n",
    "with tf.Session() as sess:\n",
    "    # Initializing the variables\n",
    "    sess.run(tf.global_variables_initializer())\n",
    "    \n",
    "    # Training cycle\n",
    "    for epoch in range(epochs):\n",
    "        batch_i = 1\n",
    "        for batch_features, batch_labels in helper.load_preprocess_training_batch(batch_i, batch_size):\n",
    "            train_neural_network(sess, optimizer, keep_probability, batch_features, batch_labels)\n",
    "        print('Epoch {:>2}, CIFAR-10 Batch {}:  '.format(epoch + 1, batch_i), end='')\n",
    "        print_stats(sess, batch_features, batch_labels, cost, accuracy)"
   ]
  },
  {
   "cell_type": "markdown",
   "metadata": {},
   "source": [
    "### Fully Train the Model\n",
    "Now that you got a good accuracy with a single CIFAR-10 batch, try it with all five batches."
   ]
  },
  {
   "cell_type": "code",
   "execution_count": null,
   "metadata": {},
   "outputs": [],
   "source": [
    "\"\"\"\n",
    "DON'T MODIFY ANYTHING IN THIS CELL\n",
    "\"\"\"\n",
    "save_model_path = './image_classification'\n",
    "\n",
    "print('Training...')\n",
    "with tf.Session() as sess:\n",
    "    # Initializing the variables\n",
    "    sess.run(tf.global_variables_initializer())\n",
    "    \n",
    "    # Training cycle\n",
    "    for epoch in range(epochs):\n",
    "        # Loop over all batches\n",
    "        n_batches = 5\n",
    "        for batch_i in range(1, n_batches + 1):\n",
    "            for batch_features, batch_labels in helper.load_preprocess_training_batch(batch_i, batch_size):\n",
    "                train_neural_network(sess, optimizer, keep_probability, batch_features, batch_labels)\n",
    "            print('Epoch {:>2}, CIFAR-10 Batch {}:  '.format(epoch + 1, batch_i), end='')\n",
    "            print_stats(sess, batch_features, batch_labels, cost, accuracy)\n",
    "            \n",
    "    # Save Model\n",
    "    saver = tf.train.Saver()\n",
    "    save_path = saver.save(sess, save_model_path)"
   ]
  },
  {
   "cell_type": "markdown",
   "metadata": {},
   "source": [
    "# Checkpoint\n",
    "The model has been saved to disk.\n",
    "## Test Model\n",
    "Test your model against the test dataset.  This will be your final accuracy. You should have an accuracy greater than 50%. If you don't, keep tweaking the model architecture and parameters."
   ]
  },
  {
   "cell_type": "code",
   "execution_count": null,
   "metadata": {},
   "outputs": [],
   "source": [
    "\"\"\"\n",
    "DON'T MODIFY ANYTHING IN THIS CELL\n",
    "\"\"\"\n",
    "%matplotlib inline\n",
    "%config InlineBackend.figure_format = 'retina'\n",
    "\n",
    "import tensorflow as tf\n",
    "import pickle\n",
    "import helper\n",
    "import random\n",
    "\n",
    "# Set batch size if not already set\n",
    "try:\n",
    "    if batch_size:\n",
    "        pass\n",
    "except NameError:\n",
    "    batch_size = 64\n",
    "\n",
    "save_model_path = './image_classification'\n",
    "n_samples = 4\n",
    "top_n_predictions = 3\n",
    "\n",
    "def test_model():\n",
    "    \"\"\"\n",
    "    Test the saved model against the test dataset\n",
    "    \"\"\"\n",
    "\n",
    "    test_features, test_labels = pickle.load(open('preprocess_test.p', mode='rb'))\n",
    "    loaded_graph = tf.Graph()\n",
    "\n",
    "    with tf.Session(graph=loaded_graph) as sess:\n",
    "        # Load model\n",
    "        loader = tf.train.import_meta_graph(save_model_path + '.meta')\n",
    "        loader.restore(sess, save_model_path)\n",
    "\n",
    "        # Get Tensors from loaded model\n",
    "        loaded_x = loaded_graph.get_tensor_by_name('x:0')\n",
    "        loaded_y = loaded_graph.get_tensor_by_name('y:0')\n",
    "        loaded_keep_prob = loaded_graph.get_tensor_by_name('keep_prob:0')\n",
    "        loaded_logits = loaded_graph.get_tensor_by_name('logits:0')\n",
    "        loaded_acc = loaded_graph.get_tensor_by_name('accuracy:0')\n",
    "        \n",
    "        # Get accuracy in batches for memory limitations\n",
    "        test_batch_acc_total = 0\n",
    "        test_batch_count = 0\n",
    "        \n",
    "        for test_feature_batch, test_label_batch in helper.batch_features_labels(test_features, test_labels, batch_size):\n",
    "            test_batch_acc_total += sess.run(\n",
    "                loaded_acc,\n",
    "                feed_dict={loaded_x: test_feature_batch, loaded_y: test_label_batch, loaded_keep_prob: 1.0})\n",
    "            test_batch_count += 1\n",
    "\n",
    "        print('Testing Accuracy: {}\\n'.format(test_batch_acc_total/test_batch_count))\n",
    "\n",
    "        # Print Random Samples\n",
    "        random_test_features, random_test_labels = tuple(zip(*random.sample(list(zip(test_features, test_labels)), n_samples)))\n",
    "        random_test_predictions = sess.run(\n",
    "            tf.nn.top_k(tf.nn.softmax(loaded_logits), top_n_predictions),\n",
    "            feed_dict={loaded_x: random_test_features, loaded_y: random_test_labels, loaded_keep_prob: 1.0})\n",
    "        helper.display_image_predictions(random_test_features, random_test_labels, random_test_predictions)\n",
    "\n",
    "\n",
    "test_model()"
   ]
  },
  {
   "cell_type": "markdown",
   "metadata": {},
   "source": [
    "## Why 50-80% Accuracy?\n",
    "You might be wondering why you can't get an accuracy any higher. First things first, 50% isn't bad for a simple CNN.  Pure guessing would get you 10% accuracy. However, you might notice people are getting scores [well above 80%](http://rodrigob.github.io/are_we_there_yet/build/classification_datasets_results.html#43494641522d3130).  That's because we haven't taught you all there is to know about neural networks. We still need to cover a few more techniques.\n",
    "## Submitting This Project\n",
    "When submitting this project, make sure to run all the cells before saving the notebook.  Save the notebook file as \"dlnd_image_classification.ipynb\" and save it as a HTML file under \"File\" -> \"Download as\".  Include the \"helper.py\" and \"problem_unittests.py\" files in your submission."
   ]
  },
  {
   "cell_type": "code",
   "execution_count": null,
   "metadata": {},
   "outputs": [],
   "source": []
  }
 ],
 "metadata": {
  "kernelspec": {
   "display_name": "Python 3",
   "language": "python",
   "name": "python3"
  },
  "language_info": {
   "codemirror_mode": {
    "name": "ipython",
    "version": 3
   },
   "file_extension": ".py",
   "mimetype": "text/x-python",
   "name": "python",
   "nbconvert_exporter": "python",
   "pygments_lexer": "ipython3",
   "version": "3.5.4"
  }
 },
 "nbformat": 4,
 "nbformat_minor": 1
}